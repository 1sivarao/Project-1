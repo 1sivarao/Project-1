{
  "cells": [
    {
      "cell_type": "markdown",
      "id": "fbb7266d",
      "metadata": {
        "id": "fbb7266d"
      },
      "source": [
        "<h1>Python OOPs Concepts</h1>"
      ]
    },
    {
      "cell_type": "markdown",
      "id": "0e10e162",
      "metadata": {
        "id": "0e10e162"
      },
      "source": [
        "![image.png](attachment:image.png)"
      ]
    },
    {
      "cell_type": "markdown",
      "id": "b19a6e38",
      "metadata": {
        "id": "b19a6e38"
      },
      "source": [
        "<p>In Python, object-oriented Programming (OOPs) is a programming paradigm that uses objects and classes in programming. It aims to implement real-world entities like inheritance, polymorphisms, encapsulation, etc. in the programming. The main concept of OOPs is to bind the data and the functions that work on that together as a single unit so that no other part of the code can access this data.</p>"
      ]
    },
    {
      "cell_type": "markdown",
      "id": "c26203af",
      "metadata": {
        "id": "c26203af"
      },
      "source": [
        "<h2>Main Concepts of Object-Oriented Programming (OOPs)</h2>\n",
        "\n",
        "<ul><li>Class</li><li>Objects</li><li>Polymorphism</li><li>Encapsulation</li><li>Inheritance</li><li>Data Abstraction</li></ul>"
      ]
    },
    {
      "cell_type": "code",
      "execution_count": null,
      "id": "9a5d6491",
      "metadata": {
        "ExecuteTime": {
          "end_time": "2023-02-10T03:51:47.455542Z",
          "start_time": "2023-02-10T03:51:47.438831Z"
        },
        "id": "9a5d6491"
      },
      "outputs": [],
      "source": [
        "class Dog():\n",
        "    \"\"\"This is a doc string for dog class\"\"\"\n",
        "    pass\n",
        "    pass"
      ]
    },
    {
      "cell_type": "code",
      "execution_count": null,
      "id": "8e28b253",
      "metadata": {
        "ExecuteTime": {
          "end_time": "2023-02-10T04:08:46.024066Z",
          "start_time": "2023-02-10T04:08:46.015091Z"
        },
        "id": "8e28b253"
      },
      "outputs": [],
      "source": [
        "class Dog1():\n",
        "    def __init__(self,name):\n",
        "        self.name=name\n",
        "        self.legs=4\n",
        "    "
      ]
    },
    {
      "cell_type": "code",
      "execution_count": null,
      "id": "52583d26",
      "metadata": {
        "ExecuteTime": {
          "end_time": "2023-02-10T07:42:07.152280Z",
          "start_time": "2023-02-10T07:42:07.128296Z"
        },
        "id": "52583d26"
      },
      "outputs": [],
      "source": [
        "class name_of_class():\n",
        "    def __init__(self,name,legs):\n",
        "        self.name=name\n",
        "        self.legs=4"
      ]
    },
    {
      "cell_type": "code",
      "execution_count": null,
      "id": "fef61cd6",
      "metadata": {
        "ExecuteTime": {
          "end_time": "2023-02-10T04:08:13.295418Z",
          "start_time": "2023-02-10T04:08:13.285413Z"
        },
        "id": "fef61cd6"
      },
      "outputs": [],
      "source": [
        "clas=name_of_class(name='Object',legs=3)"
      ]
    },
    {
      "cell_type": "code",
      "execution_count": null,
      "id": "a0f8c127",
      "metadata": {
        "ExecuteTime": {
          "end_time": "2023-02-10T04:08:28.814022Z",
          "start_time": "2023-02-10T04:08:28.800059Z"
        },
        "id": "a0f8c127"
      },
      "outputs": [],
      "source": [
        "clas.legs=3\n",
        "clas.legs"
      ]
    },
    {
      "cell_type": "code",
      "execution_count": null,
      "id": "b0aae3ea",
      "metadata": {
        "ExecuteTime": {
          "end_time": "2023-02-10T04:08:49.394393Z",
          "start_time": "2023-02-10T04:08:49.384390Z"
        },
        "id": "b0aae3ea"
      },
      "outputs": [],
      "source": [
        "dog1=Dog1(name='Labrador')"
      ]
    },
    {
      "cell_type": "code",
      "execution_count": null,
      "id": "cf086c3a",
      "metadata": {
        "ExecuteTime": {
          "end_time": "2023-02-10T04:09:02.606150Z",
          "start_time": "2023-02-10T04:09:02.600167Z"
        },
        "id": "cf086c3a"
      },
      "outputs": [],
      "source": [
        "dog1.name='Doberman'"
      ]
    },
    {
      "cell_type": "code",
      "execution_count": null,
      "id": "d94fec02",
      "metadata": {
        "ExecuteTime": {
          "end_time": "2023-02-10T04:10:46.471029Z",
          "start_time": "2023-02-10T04:10:46.454072Z"
        },
        "id": "d94fec02"
      },
      "outputs": [],
      "source": [
        "Dog1('x')"
      ]
    },
    {
      "cell_type": "code",
      "execution_count": null,
      "id": "760b6619",
      "metadata": {
        "ExecuteTime": {
          "end_time": "2023-02-10T03:59:44.105852Z",
          "start_time": "2023-02-10T03:59:44.089891Z"
        },
        "id": "760b6619"
      },
      "outputs": [],
      "source": [
        "dog2=Dog1(name='Husky')"
      ]
    },
    {
      "cell_type": "code",
      "execution_count": null,
      "id": "86974a3c",
      "metadata": {
        "ExecuteTime": {
          "end_time": "2023-02-10T03:59:00.484266Z",
          "start_time": "2023-02-10T03:59:00.475297Z"
        },
        "id": "86974a3c"
      },
      "outputs": [],
      "source": [
        "dog=['name','Labrador','legs:4']\n",
        "dog=['name','Labrador','legs:4']\n",
        "dog=['name','Labrador','legs:4']\n",
        "dog=['name','Labrador','legs:4']"
      ]
    },
    {
      "cell_type": "code",
      "execution_count": null,
      "id": "8f1a3748",
      "metadata": {
        "ExecuteTime": {
          "end_time": "2023-02-10T03:56:04.223921Z",
          "start_time": "2023-02-10T03:56:04.198958Z"
        },
        "id": "8f1a3748"
      },
      "outputs": [],
      "source": [
        "dog1.name"
      ]
    },
    {
      "cell_type": "code",
      "execution_count": null,
      "id": "a29aa3c7",
      "metadata": {
        "ExecuteTime": {
          "end_time": "2023-02-10T03:52:24.466903Z",
          "start_time": "2023-02-10T03:52:24.451251Z"
        },
        "id": "a29aa3c7"
      },
      "outputs": [],
      "source": [
        "dog1=Dog()"
      ]
    },
    {
      "cell_type": "code",
      "execution_count": null,
      "id": "6bd2b316",
      "metadata": {
        "ExecuteTime": {
          "end_time": "2023-02-10T04:05:41.995372Z",
          "start_time": "2023-02-10T04:05:41.982438Z"
        },
        "id": "6bd2b316"
      },
      "outputs": [],
      "source": [
        "clas=name_of_class()"
      ]
    },
    {
      "cell_type": "code",
      "execution_count": null,
      "id": "c203295d",
      "metadata": {
        "ExecuteTime": {
          "end_time": "2023-02-10T07:42:10.623339Z",
          "start_time": "2023-02-10T07:42:10.181389Z"
        },
        "id": "c203295d"
      },
      "outputs": [],
      "source": [
        "clas.legs"
      ]
    },
    {
      "cell_type": "markdown",
      "id": "f00f8d50",
      "metadata": {
        "id": "f00f8d50"
      },
      "source": [
        "<h2>Class</h2>\n",
        "<p>A class is a collection of objects. A class contains the blueprints or the prototype from which the objects are being created. It is a logical entity that contains some attributes and methods.</p>\n",
        "\n",
        "<p>To understand the need for creating a class let’s consider an example, let’s say you wanted to track the number of dogs that may have different attributes like breed, age. If a list is used, the first element could be the dog’s breed while the second element could represent its age. Let’s suppose there are 100 different dogs, then how would you know which element is supposed to be which? What if you wanted to add other properties to these dogs? This lacks organization and it’s the exact need for classes.</p>"
      ]
    },
    {
      "cell_type": "markdown",
      "id": "f7c3913c",
      "metadata": {
        "id": "f7c3913c"
      },
      "source": [
        "<strong>Some points on Python class:</strong>\n",
        "<ul><li>Classes are created by keyword class.</li><li>Attributes are the variables that belong to a class.</li><li>Attributes are always public and can be accessed using the dot (.) operator. Eg.: Myclass.Myattribute</li></ul>"
      ]
    },
    {
      "cell_type": "code",
      "execution_count": null,
      "id": "6a9b03a2",
      "metadata": {
        "ExecuteTime": {
          "end_time": "2023-02-10T04:12:03.441621Z",
          "start_time": "2023-02-10T04:12:03.428625Z"
        },
        "id": "6a9b03a2"
      },
      "outputs": [],
      "source": [
        "dog1.legs"
      ]
    },
    {
      "cell_type": "code",
      "execution_count": null,
      "id": "25ce0939",
      "metadata": {
        "ExecuteTime": {
          "end_time": "2023-02-10T04:35:01.674749Z",
          "start_time": "2023-02-10T04:35:01.655800Z"
        },
        "id": "25ce0939"
      },
      "outputs": [],
      "source": [
        "# SYntax\n",
        "class Person:\n",
        "    def __init__(self,height,gender,age,name):\n",
        "        self.height=height\n",
        "        self.gender=gender\n",
        "        self.age=age\n",
        "        self.name=name\n",
        "#     pass"
      ]
    },
    {
      "cell_type": "code",
      "execution_count": null,
      "id": "fbd0058b",
      "metadata": {
        "ExecuteTime": {
          "end_time": "2023-02-10T04:36:46.934152Z",
          "start_time": "2023-02-10T04:36:46.925173Z"
        },
        "id": "fbd0058b"
      },
      "outputs": [],
      "source": [
        "var1.name=['Shaikh']"
      ]
    },
    {
      "cell_type": "code",
      "execution_count": null,
      "id": "0a5eb809",
      "metadata": {
        "ExecuteTime": {
          "end_time": "2023-02-10T04:36:56.360309Z",
          "start_time": "2023-02-10T04:36:56.352328Z"
        },
        "id": "0a5eb809"
      },
      "outputs": [],
      "source": [
        "type(var1.name)"
      ]
    },
    {
      "cell_type": "code",
      "execution_count": null,
      "id": "975ae30a",
      "metadata": {
        "ExecuteTime": {
          "end_time": "2023-02-10T04:36:11.266640Z",
          "start_time": "2023-02-10T04:36:11.249693Z"
        },
        "id": "975ae30a"
      },
      "outputs": [],
      "source": [
        "var1.age+=var1.age"
      ]
    },
    {
      "cell_type": "code",
      "execution_count": null,
      "id": "2e59a94f",
      "metadata": {
        "ExecuteTime": {
          "end_time": "2023-02-10T04:35:43.768674Z",
          "start_time": "2023-02-10T04:35:43.754153Z"
        },
        "id": "2e59a94f"
      },
      "outputs": [],
      "source": [
        "var1.age+=var1.age"
      ]
    },
    {
      "cell_type": "code",
      "execution_count": null,
      "id": "fa812ac9",
      "metadata": {
        "ExecuteTime": {
          "end_time": "2023-02-10T04:35:04.326625Z",
          "start_time": "2023-02-10T04:35:04.311150Z"
        },
        "id": "fa812ac9"
      },
      "outputs": [],
      "source": [
        "var1=Person(height='5:9',gender='M',name='Salem',age='21')\n",
        "print(f'''name of the person is {var1.name}\n",
        "\\nheight of the person is {var1.height}\\n\n",
        "age of the person is {var1.age}''')"
      ]
    },
    {
      "cell_type": "code",
      "execution_count": null,
      "id": "51017429",
      "metadata": {
        "ExecuteTime": {
          "end_time": "2023-02-10T04:22:07.984574Z",
          "start_time": "2023-02-10T04:22:07.971609Z"
        },
        "id": "51017429"
      },
      "outputs": [],
      "source": [
        "class class_name(object):\n",
        "    \"\"\"\n",
        "    statement 1\n",
        "    statement 2\n",
        "    statement 3\n",
        "    \"\"\"\n",
        "    pass"
      ]
    },
    {
      "cell_type": "code",
      "execution_count": null,
      "id": "2302e475",
      "metadata": {
        "ExecuteTime": {
          "end_time": "2023-02-10T04:19:38.805556Z",
          "start_time": "2023-02-10T04:19:38.792591Z"
        },
        "id": "2302e475"
      },
      "outputs": [],
      "source": [
        "class practise:\n",
        "    pass"
      ]
    },
    {
      "cell_type": "code",
      "execution_count": null,
      "id": "fbf4d864",
      "metadata": {
        "ExecuteTime": {
          "end_time": "2023-02-10T04:19:43.735388Z",
          "start_time": "2023-02-10T04:19:43.728376Z"
        },
        "id": "fbf4d864"
      },
      "outputs": [],
      "source": [
        "class Person(object):\n",
        "    pass"
      ]
    },
    {
      "cell_type": "markdown",
      "id": "c4e24c40",
      "metadata": {
        "id": "c4e24c40"
      },
      "source": [
        "<p><strong>Class Definition Syntax:</strong></p>\n",
        "<pre>class ClassName:\n",
        "   # Statement-1\n",
        "   .\n",
        "   .\n",
        "   .\n",
        "   # Statement-N</pre>"
      ]
    },
    {
      "cell_type": "markdown",
      "id": "afe223d9",
      "metadata": {
        "id": "afe223d9"
      },
      "source": [
        "<h3>Example: Creating an empty Class in Python</h3>"
      ]
    },
    {
      "cell_type": "markdown",
      "id": "6f95e83b",
      "metadata": {
        "id": "6f95e83b"
      },
      "source": [
        "<p>In the above example, we have created a class named dog using the class keyword.</p>"
      ]
    },
    {
      "cell_type": "markdown",
      "id": "0c4ad53b",
      "metadata": {
        "ExecuteTime": {
          "end_time": "2023-01-20T08:57:32.779547Z",
          "start_time": "2023-01-20T08:57:32.773532Z"
        },
        "id": "0c4ad53b"
      },
      "source": [
        "<h2>Objects</h2>\n",
        "<p>The object is an entity that has a state and behavior associated with it. It may be any real-world object like a mouse, keyboard, chair, table, pen, etc. Integers, strings, floating-point numbers, even arrays, and dictionaries, are all objects. More specifically, any single integer or any single string is an object. The number 12 is an object, the string “Hello, world” is an object, a list is an object that can hold other objects, and so on. You’ve been using objects all along and may not even realize it.</p>"
      ]
    },
    {
      "cell_type": "markdown",
      "id": "396949e5",
      "metadata": {
        "id": "396949e5"
      },
      "source": [
        "<p><strong>An object consists of :</strong></p>\n",
        "\n",
        "<ul><li><strong>State:</strong> It is represented by the attributes of an object. It also reflects the properties of an object.</li><li><strong>Behavior:</strong> It is represented by the methods of an object. It also reflects the response of an object to other objects.</li><li><strong>Identity:</strong> It gives a unique name to an object and enables one object to interact with other objects.</li></ul>"
      ]
    },
    {
      "cell_type": "code",
      "execution_count": null,
      "id": "a92e0d29",
      "metadata": {
        "ExecuteTime": {
          "end_time": "2023-02-10T04:52:07.217055Z",
          "start_time": "2023-02-10T04:52:07.201063Z"
        },
        "id": "a92e0d29"
      },
      "outputs": [],
      "source": [
        "class dog():\n",
        "    def __init__(self):\n",
        "        self.name='Dog'\n",
        "        \n",
        "    def bark(bone):\n",
        "        if bone==True:\n",
        "            print(f'dog is barking')\n",
        "        else:\n",
        "            print('dog is not barking')\n",
        "#       Sitting\n",
        "Dog=dog()\n",
        "dog.bark(bone=True)"
      ]
    },
    {
      "cell_type": "code",
      "execution_count": null,
      "id": "fce977ad",
      "metadata": {
        "ExecuteTime": {
          "end_time": "2023-02-10T04:52:08.526925Z",
          "start_time": "2023-02-10T04:52:08.510932Z"
        },
        "id": "fce977ad"
      },
      "outputs": [],
      "source": []
    },
    {
      "cell_type": "code",
      "execution_count": null,
      "id": "c3abf12f",
      "metadata": {
        "ExecuteTime": {
          "end_time": "2023-02-10T04:52:09.542695Z",
          "start_time": "2023-02-10T04:52:09.526663Z"
        },
        "id": "c3abf12f"
      },
      "outputs": [],
      "source": []
    },
    {
      "cell_type": "markdown",
      "id": "d888552b",
      "metadata": {
        "id": "d888552b"
      },
      "source": [
        "<p>To understand the state, behavior, and identity let us take the example of the class dog (explained above).&nbsp;</p>"
      ]
    },
    {
      "cell_type": "markdown",
      "id": "8d58a8fe",
      "metadata": {
        "id": "8d58a8fe"
      },
      "source": [
        "<ul><li>The identity can be considered as the name of the dog.</li><li>State or Attributes can be considered as the breed, age, or color of the dog.</li><li>The behavior can be considered as to whether the dog is eating or sleeping.</li></ul>"
      ]
    },
    {
      "cell_type": "markdown",
      "id": "aa7720f2",
      "metadata": {
        "id": "aa7720f2"
      },
      "source": [
        "<h3>Example: Creating an object</h3>"
      ]
    },
    {
      "cell_type": "code",
      "execution_count": null,
      "id": "311570e3",
      "metadata": {
        "ExecuteTime": {
          "end_time": "2023-01-20T08:59:35.750280Z",
          "start_time": "2023-01-20T08:59:35.733324Z"
        },
        "code_folding": [],
        "id": "311570e3"
      },
      "outputs": [],
      "source": [
        "# obj=Dog()"
      ]
    },
    {
      "cell_type": "code",
      "execution_count": null,
      "id": "9cb47da9",
      "metadata": {
        "ExecuteTime": {
          "end_time": "2023-02-10T05:04:53.701530Z",
          "start_time": "2023-02-10T05:04:53.685540Z"
        },
        "id": "9cb47da9"
      },
      "outputs": [],
      "source": [
        "var=1\n",
        "f'This is a string {var}'"
      ]
    },
    {
      "cell_type": "code",
      "execution_count": null,
      "id": "4cf798f3",
      "metadata": {
        "ExecuteTime": {
          "end_time": "2023-02-10T05:05:07.572315Z",
          "start_time": "2023-02-10T05:05:07.548333Z"
        },
        "id": "4cf798f3"
      },
      "outputs": [],
      "source": [
        "\"xyz {}\".format(var)"
      ]
    },
    {
      "cell_type": "code",
      "execution_count": null,
      "id": "ebb013a9",
      "metadata": {
        "ExecuteTime": {
          "end_time": "2023-02-10T05:05:48.532418Z",
          "start_time": "2023-02-10T05:05:48.516389Z"
        },
        "code_folding": [
          0
        ],
        "id": "ebb013a9"
      },
      "outputs": [],
      "source": [
        "class Point:\n",
        "    def __init__(self, x, y):\n",
        "        self.x = x\n",
        "        self.y = y\n",
        "        \n",
        "    def __str__(self):\n",
        "        return f\"Point({self.x}, {self.y})\"\n",
        "    \n",
        "    def object1():\n",
        "        pass\n",
        "    \n",
        "p1 = Point(1, 2)\n",
        "p2 = Point(3, 4)\n",
        "\n",
        "print(p1)\n",
        "print(p2)"
      ]
    },
    {
      "cell_type": "code",
      "execution_count": null,
      "id": "36463b8a",
      "metadata": {
        "ExecuteTime": {
          "end_time": "2023-02-10T05:00:41.526613Z",
          "start_time": "2023-02-10T05:00:41.510591Z"
        },
        "id": "36463b8a"
      },
      "outputs": [],
      "source": [
        "import pandas\n",
        "pandas."
      ]
    },
    {
      "cell_type": "code",
      "execution_count": null,
      "id": "3a2d22e6",
      "metadata": {
        "ExecuteTime": {
          "end_time": "2023-02-10T05:00:11.375289Z",
          "start_time": "2023-02-10T05:00:11.347323Z"
        },
        "code_folding": [
          0
        ],
        "id": "3a2d22e6"
      },
      "outputs": [],
      "source": [
        "p1.__str__()"
      ]
    },
    {
      "cell_type": "code",
      "execution_count": null,
      "id": "1d4f89e2",
      "metadata": {
        "id": "1d4f89e2"
      },
      "outputs": [],
      "source": []
    },
    {
      "cell_type": "code",
      "execution_count": null,
      "id": "a662a3eb",
      "metadata": {
        "ExecuteTime": {
          "end_time": "2023-02-09T13:22:40.147132Z",
          "start_time": "2023-02-09T13:22:40.128151Z"
        },
        "id": "a662a3eb"
      },
      "outputs": [],
      "source": []
    },
    {
      "cell_type": "code",
      "execution_count": null,
      "id": "833f9f6c",
      "metadata": {
        "ExecuteTime": {
          "end_time": "2023-02-09T13:22:48.640739Z",
          "start_time": "2023-02-09T13:22:48.631760Z"
        },
        "id": "833f9f6c"
      },
      "outputs": [],
      "source": []
    },
    {
      "cell_type": "code",
      "execution_count": null,
      "id": "b52dcb18",
      "metadata": {
        "ExecuteTime": {
          "end_time": "2023-02-09T13:22:51.786859Z",
          "start_time": "2023-02-09T13:22:51.772896Z"
        },
        "id": "b52dcb18"
      },
      "outputs": [],
      "source": []
    },
    {
      "cell_type": "code",
      "execution_count": null,
      "id": "757daeea",
      "metadata": {
        "ExecuteTime": {
          "end_time": "2023-02-09T12:59:20.084988Z",
          "start_time": "2023-02-09T12:59:20.069365Z"
        },
        "code_folding": [
          0
        ],
        "id": "757daeea"
      },
      "outputs": [],
      "source": [
        "# ShoppingCart\n",
        "\n",
        "class ShoppingCart:\n",
        "    def __init__(self):\n",
        "        self.items = []\n",
        "        self.total_price = 0\n",
        "        self.discount = 0\n",
        "        \n",
        "    def add_item(self, item):\n",
        "        self.items.append(item)\n",
        "        self.total_price += item[\"price\"]\n",
        "        \n",
        "    def remove_item(self, item):\n",
        "        self.items.remove(item)\n",
        "        self.total_price -= item[\"price\"]\n",
        "        \n",
        "    def get_total(self):\n",
        "        return self.total_price - self.total_price * self.discount\n"
      ]
    },
    {
      "cell_type": "code",
      "execution_count": null,
      "id": "821a8848",
      "metadata": {
        "ExecuteTime": {
          "end_time": "2023-02-09T13:29:10.248542Z",
          "start_time": "2023-02-09T13:29:10.233582Z"
        },
        "code_folding": [
          0
        ],
        "id": "821a8848"
      },
      "outputs": [],
      "source": [
        "class Cart():\n",
        "    \n",
        "    def __init__(self):\n",
        "        self.total=0\n",
        "        self.product_list={}\n",
        "\n",
        "    def update(self,amount,product):\n",
        "        self.product_list[product]=amount\n",
        "        self.total+=amount\n",
        "        \n",
        "    def remove(self,product):\n",
        "        if product in self.product_list:\n",
        "            del(self.product_list[product])\n",
        "        else:\n",
        "            raise ValueError(\"product not in list\")\n",
        "            \n",
        "    def cart_(self):\n",
        "        print('Total Items in Cart: ',self.product_list.keys())\n",
        "        print('Total Items in Cart: ',len(self.product_list))\n",
        "        print(f'Total {sum(self.product_list.values())}')"
      ]
    },
    {
      "cell_type": "code",
      "execution_count": null,
      "id": "e7478bf8",
      "metadata": {
        "ExecuteTime": {
          "end_time": "2023-02-09T13:29:11.719735Z",
          "start_time": "2023-02-09T13:29:11.708732Z"
        },
        "id": "e7478bf8"
      },
      "outputs": [],
      "source": []
    },
    {
      "cell_type": "code",
      "execution_count": null,
      "id": "487d5255",
      "metadata": {
        "ExecuteTime": {
          "end_time": "2023-02-09T13:29:13.969643Z",
          "start_time": "2023-02-09T13:29:13.964658Z"
        },
        "id": "487d5255"
      },
      "outputs": [],
      "source": [
        "cart.update(amount=100,product='Dog')"
      ]
    },
    {
      "cell_type": "code",
      "execution_count": null,
      "id": "e892dc16",
      "metadata": {
        "ExecuteTime": {
          "end_time": "2023-02-09T13:29:18.250365Z",
          "start_time": "2023-02-09T13:29:18.220474Z"
        },
        "id": "e892dc16"
      },
      "outputs": [],
      "source": [
        "cart.remove('Dog')"
      ]
    },
    {
      "cell_type": "code",
      "execution_count": null,
      "id": "7cdd3468",
      "metadata": {
        "ExecuteTime": {
          "end_time": "2023-02-09T13:33:55.122258Z",
          "start_time": "2023-02-09T13:33:55.084356Z"
        },
        "code_folding": [
          0
        ],
        "id": "7cdd3468"
      },
      "outputs": [],
      "source": []
    },
    {
      "cell_type": "markdown",
      "id": "c7a1f760",
      "metadata": {
        "id": "c7a1f760"
      },
      "source": [
        "<p>This will create an object named obj of the class Dog defined above. Before diving deep into objects and class let us understand some basic keywords that will we used while working with objects and classes.</p>"
      ]
    },
    {
      "cell_type": "markdown",
      "id": "db4afe86",
      "metadata": {
        "id": "db4afe86"
      },
      "source": [
        "<h3><strong>The self</strong></h3>\n",
        "\n",
        "<ol><li>Class methods must have an extra first parameter in the method definition. We do not give a value for this parameter when we call the method, Python provides it</li><li>If we have a method that takes no arguments, then we still have to have one argument.</li><li>This is similar to this pointer in C++ and this reference in Java.</li></ol>"
      ]
    },
    {
      "cell_type": "markdown",
      "id": "1e7907ea",
      "metadata": {
        "id": "1e7907ea"
      },
      "source": [
        "<p>When we call a method of this object as myobject.method(arg1, arg2), this is automatically converted by Python into MyClass.method(myobject, arg1, arg2) – this is all the special self is about.</p>"
      ]
    },
    {
      "cell_type": "markdown",
      "id": "d77ef8f8",
      "metadata": {
        "id": "d77ef8f8"
      },
      "source": [
        "<h3><strong>The __init__ method</strong>&nbsp;</h3>\n",
        "\n",
        "<p> <em>The __init__</em> method is similar to constructors in C++ and Java. It is run as soon as an object of a class is instantiated. The method is useful to do any initialization you want to do with your object.</p>\n",
        "\n",
        "<p>Now let us define a class and create some objects using the self and __init__ method.</p>\n",
        "\n"
      ]
    },
    {
      "cell_type": "markdown",
      "id": "a6b26daa",
      "metadata": {
        "id": "a6b26daa"
      },
      "source": [
        "<h3>Example 1: Creating a class and object with class and instance attributes</h3>"
      ]
    },
    {
      "cell_type": "code",
      "execution_count": null,
      "id": "9b6a8586",
      "metadata": {
        "ExecuteTime": {
          "end_time": "2023-01-20T09:03:50.465160Z",
          "start_time": "2023-01-20T09:03:50.452193Z"
        },
        "code_folding": [
          0
        ],
        "id": "9b6a8586"
      },
      "outputs": [],
      "source": [
        "# class Dog:\n",
        "# #     Class attribute\n",
        "#     attr1='mammal'\n",
        "    \n",
        "#     #Instance Attribute\n",
        "#     def __init__(self,name):\n",
        "#         self.name=name"
      ]
    },
    {
      "cell_type": "code",
      "execution_count": null,
      "id": "a4ad9349",
      "metadata": {
        "ExecuteTime": {
          "end_time": "2023-01-20T09:04:30.304607Z",
          "start_time": "2023-01-20T09:04:30.291616Z"
        },
        "code_folding": [
          0
        ],
        "id": "a4ad9349"
      },
      "outputs": [],
      "source": [
        "# # Object Instantiation\n",
        "\n",
        "# Rodger=Dog('Rodger')\n",
        "# Tommy=Dog('Tommy')"
      ]
    },
    {
      "cell_type": "code",
      "execution_count": null,
      "id": "69051f13",
      "metadata": {
        "ExecuteTime": {
          "end_time": "2023-02-09T14:26:44.254102Z",
          "start_time": "2023-02-09T14:26:44.238113Z"
        },
        "code_folding": [
          0
        ],
        "id": "69051f13"
      },
      "outputs": [],
      "source": [
        "# # Accessing class Attributes\n",
        "\n",
        "# print(f'Rodger is a {Rodger.attr1}')\n",
        "# print(\"Tommy is also a {}\".format(Tommy.__class__.attr1))"
      ]
    },
    {
      "cell_type": "code",
      "execution_count": null,
      "id": "af95ed8d",
      "metadata": {
        "ExecuteTime": {
          "end_time": "2023-01-20T09:06:14.760947Z",
          "start_time": "2023-01-20T09:06:14.741696Z"
        },
        "code_folding": [
          0
        ],
        "id": "af95ed8d"
      },
      "outputs": [],
      "source": [
        "# # Accessing instance attributes\n",
        "# print(\"My name is {}\".format(Rodger.name))\n",
        "# print(\"My name is {}\".format(Tommy.name))"
      ]
    },
    {
      "cell_type": "markdown",
      "id": "287776f9",
      "metadata": {
        "id": "287776f9"
      },
      "source": [
        "<h3>Example 2: Creating Class and objects with methods</h3>"
      ]
    },
    {
      "cell_type": "code",
      "execution_count": null,
      "id": "49e5d810",
      "metadata": {
        "ExecuteTime": {
          "end_time": "2023-02-10T05:13:48.745673Z",
          "start_time": "2023-02-10T05:13:48.729683Z"
        },
        "id": "49e5d810"
      },
      "outputs": [],
      "source": [
        "acc1=BankAccount(name='Sai kiran',balance=50000)"
      ]
    },
    {
      "cell_type": "code",
      "execution_count": null,
      "id": "0e186b7f",
      "metadata": {
        "ExecuteTime": {
          "end_time": "2023-02-10T05:14:20.139728Z",
          "start_time": "2023-02-10T05:14:20.129417Z"
        },
        "id": "0e186b7f"
      },
      "outputs": [],
      "source": [
        "acc1.deposit(50000)"
      ]
    },
    {
      "cell_type": "code",
      "execution_count": null,
      "id": "fdaa8be1",
      "metadata": {
        "ExecuteTime": {
          "end_time": "2023-02-10T05:14:27.497813Z",
          "start_time": "2023-02-10T05:14:27.481783Z"
        },
        "id": "fdaa8be1"
      },
      "outputs": [],
      "source": [
        "acc1.balance`"
      ]
    },
    {
      "cell_type": "code",
      "execution_count": null,
      "id": "0254e232",
      "metadata": {
        "ExecuteTime": {
          "end_time": "2023-02-10T05:14:52.504966Z",
          "start_time": "2023-02-10T05:14:52.488974Z"
        },
        "id": "0254e232"
      },
      "outputs": [],
      "source": [
        "acc1.withdraw(100000)"
      ]
    },
    {
      "cell_type": "code",
      "execution_count": null,
      "id": "2f212031",
      "metadata": {
        "ExecuteTime": {
          "end_time": "2023-02-10T05:29:07.317180Z",
          "start_time": "2023-02-10T05:29:07.301433Z"
        },
        "id": "2f212031"
      },
      "outputs": [],
      "source": [
        "name=BankAccount(name='Name',balance=1000)"
      ]
    },
    {
      "cell_type": "code",
      "execution_count": null,
      "id": "5f0e13ff",
      "metadata": {
        "ExecuteTime": {
          "end_time": "2023-02-10T05:30:28.351659Z",
          "start_time": "2023-02-10T05:30:28.327674Z"
        },
        "id": "5f0e13ff"
      },
      "outputs": [],
      "source": [
        "name.balance"
      ]
    },
    {
      "cell_type": "code",
      "execution_count": null,
      "id": "9b98dd4e",
      "metadata": {
        "ExecuteTime": {
          "end_time": "2023-02-10T05:13:01.027183Z",
          "start_time": "2023-02-10T05:13:01.003198Z"
        },
        "code_folding": [
          0
        ],
        "id": "9b98dd4e"
      },
      "outputs": [],
      "source": [
        "# bank management system\n",
        "class BankAccount:\n",
        "    def __init__(self, name, balance):\n",
        "        self.name = name\n",
        "        self.balance = balance\n",
        "        \n",
        "    def deposit(self, amount):\n",
        "        \n",
        "        if amount <0:\n",
        "            raise ValueError(\"trying to  withdraw\")\n",
        "        else:\n",
        "            self.balance += amount\n",
        "            \n",
        "    def withdraw(self, amount):\n",
        "        if amount > self.balance:\n",
        "            raise ArithmeticError(\"Insufficient funds\")\n",
        "        else:\n",
        "            self.balance -= amount\n",
        "            \n",
        "    def __str__(self):\n",
        "        return f\"{self.name}'s account balance: ${self.balance}\"\n",
        "    \n",
        "# Enter details of the customer starting balance\n",
        "# create a calculator to add sub and \n",
        "# multiply two value\n",
        "# class bank_management_system():\n",
        "#     def __init__(self,name,balance):\n",
        "#         self.name=name\n",
        "#         self.balance=balance\n",
        "    \n",
        "#     def deposit(self,amount):\n",
        "#         if amount<0:\n",
        "#             raise ValueError('Attempted to withdraw money')\n",
        "#         else:\n",
        "#             self.balance+=amount\n",
        "#             print(f'Current Balance {self.balance}')\n",
        "            \n",
        "#     def withdraw(self,amount):\n",
        "#         if amount>self.balance:\n",
        "#             raise ArithmeticError('Not enough balance')\n",
        "#         else:\n",
        "#             self.balance+=amount\n",
        "#             print(f'Current Balance {self.balance}')\n",
        "    \n",
        "#     def balance(self):\n",
        "#         print(f'Current Balance {self.balance}')"
      ]
    },
    {
      "cell_type": "code",
      "execution_count": null,
      "id": "a66e5d9e",
      "metadata": {
        "ExecuteTime": {
          "end_time": "2023-01-20T13:06:21.501168Z",
          "start_time": "2023-01-20T13:06:21.477184Z"
        },
        "code_folding": [
          0
        ],
        "id": "a66e5d9e"
      },
      "outputs": [],
      "source": [
        "# class greeting(object):\n",
        "#     def morning(name):\n",
        "#         print(f'goodmorning {name}')\n",
        "#     def afternoon(name):\n",
        "#         print(f'goodafternoon {name}')\n",
        "#     def evening(name):\n",
        "#         print(f'goodevening {name}')"
      ]
    },
    {
      "cell_type": "code",
      "execution_count": null,
      "id": "678534d3",
      "metadata": {
        "ExecuteTime": {
          "end_time": "2023-01-20T13:09:25.499331Z",
          "start_time": "2023-01-20T13:09:23.461695Z"
        },
        "code_folding": [
          0
        ],
        "id": "678534d3"
      },
      "outputs": [],
      "source": [
        "# import time\n",
        "\n",
        "# c_time=time.localtime()\n",
        "# t=time.strftime(\"%H:%M:%S\", c_time)\n",
        "# noon=\"12\"\n",
        "# evening=\"18\"\n",
        "# mid_Night=\"24\"\n",
        "\n",
        "# name=input('enter your name: ')\n",
        "\n",
        "# greet=greeting\n",
        "\n",
        "# if t>noon and t<evening:\n",
        "#     print(greet.afternoon(name))\n",
        "# elif t>evening and t<mid_Night:\n",
        "#     print(greet.evening(name))\n",
        "# else:\n",
        "#     print(greet.morning(name))"
      ]
    },
    {
      "cell_type": "code",
      "execution_count": null,
      "id": "17faa6a5",
      "metadata": {
        "ExecuteTime": {
          "end_time": "2023-01-20T13:08:14.055554Z",
          "start_time": "2023-01-20T13:08:14.031568Z"
        },
        "code_folding": [],
        "id": "17faa6a5"
      },
      "outputs": [],
      "source": [
        "# t>evening and t<mid_Night"
      ]
    },
    {
      "cell_type": "code",
      "execution_count": null,
      "id": "727422cc",
      "metadata": {
        "ExecuteTime": {
          "end_time": "2023-01-20T09:06:46.893518Z",
          "start_time": "2023-01-20T09:06:46.872580Z"
        },
        "code_folding": [],
        "id": "727422cc"
      },
      "outputs": [],
      "source": [
        "# class Dog:\n",
        " \n",
        "#     # class attribute\n",
        "#     attr1 = \"mammal\"\n",
        " \n",
        "#     # Instance attribute\n",
        "#     def __init__(self, name):\n",
        "#         self.name = name\n",
        "         \n",
        "#     def speak(self):\n",
        "#         print(\"My name is {}\".format(self.name))\n",
        "\n",
        "# # Object instantiation\n",
        "# Rodger = Dog(\"Rodger\")\n",
        "# Tommy = Dog(\"Tommy\")\n",
        " \n",
        "# # Accessing class methods\n",
        "# Rodger.speak()\n",
        "# Tommy.speak()"
      ]
    },
    {
      "cell_type": "markdown",
      "id": "d5a985e9",
      "metadata": {
        "id": "d5a985e9"
      },
      "source": [
        "<h4>Representing a calculator: </h4>\n",
        "<ul>\n",
        "    <li>Create a class Calculator to represent a calculator, with properties like current value and memory. You can also add methods like add, subtract, multiply, divide, and clear."
      ]
    },
    {
      "cell_type": "code",
      "execution_count": null,
      "id": "3519fce7",
      "metadata": {
        "ExecuteTime": {
          "end_time": "2023-02-10T07:44:27.563257Z",
          "start_time": "2023-02-10T07:44:27.539273Z"
        },
        "code_folding": [],
        "id": "3519fce7"
      },
      "outputs": [],
      "source": [
        "class Cal:\n",
        "    \n",
        "    \"\"\"This is a class for calculator\"\"\"\n",
        "    \n",
        "    def __init__(self):\n",
        "        self.var1=0\n",
        "        self.var2=0\n",
        "        \n",
        "    def add(self,num1,num2):\n",
        "        print(num1+num2)\n",
        "    \n",
        "    def div(self,num1,num2):\n",
        "        if num2==0:\n",
        "            raise ValueError('cannot divide by zero')\n",
        "        else:\n",
        "            return num1/num2\n",
        "        \n",
        "    def mul(self,num1,num2):\n",
        "        return num1*num2"
      ]
    },
    {
      "cell_type": "code",
      "execution_count": null,
      "id": "e9da1d50",
      "metadata": {
        "ExecuteTime": {
          "end_time": "2023-02-10T07:44:29.915109Z",
          "start_time": "2023-02-10T07:44:29.907111Z"
        },
        "id": "e9da1d50"
      },
      "outputs": [],
      "source": [
        "obj=Cal()"
      ]
    },
    {
      "cell_type": "code",
      "execution_count": null,
      "id": "0724ec68",
      "metadata": {
        "ExecuteTime": {
          "end_time": "2023-02-10T07:44:47.674321Z",
          "start_time": "2023-02-10T07:44:47.650333Z"
        },
        "id": "0724ec68",
        "outputId": "1ab483bd-ba26-4785-f6be-0b3af2d51193"
      },
      "outputs": [
        {
          "ename": "TypeError",
          "evalue": "mul() takes 2 positional arguments but 3 were given",
          "output_type": "error",
          "traceback": [
            "\u001b[1;31m---------------------------------------------------------------------------\u001b[0m",
            "\u001b[1;31mTypeError\u001b[0m                                 Traceback (most recent call last)",
            "\u001b[1;32m~\\AppData\\Local\\Temp\\ipykernel_628\\1271072120.py\u001b[0m in \u001b[0;36m<module>\u001b[1;34m\u001b[0m\n\u001b[1;32m----> 1\u001b[1;33m \u001b[0mobj\u001b[0m\u001b[1;33m.\u001b[0m\u001b[0mmul\u001b[0m\u001b[1;33m(\u001b[0m\u001b[1;36m1\u001b[0m\u001b[1;33m,\u001b[0m\u001b[1;36m4\u001b[0m\u001b[1;33m)\u001b[0m\u001b[1;33m\u001b[0m\u001b[1;33m\u001b[0m\u001b[0m\n\u001b[0m",
            "\u001b[1;31mTypeError\u001b[0m: mul() takes 2 positional arguments but 3 were given"
          ]
        }
      ],
      "source": [
        "obj.mul(1,4)"
      ]
    },
    {
      "cell_type": "markdown",
      "id": "4b581701",
      "metadata": {
        "id": "4b581701"
      },
      "source": [
        "<h2>Inheritance</h2>"
      ]
    },
    {
      "cell_type": "markdown",
      "id": "89017174",
      "metadata": {
        "id": "89017174"
      },
      "source": [
        "<p>Inheritance is the capability of one class to derive or inherit the properties from another class. The class that derives properties is called the derived class or child class and the class from which the properties are being derived is called the base class or parent class. The benefits of inheritance are:</p>\n",
        "\n",
        "<ul><li>It represents real-world relationships well.</li><li>It provides the reusability of a code. We don’t have to write the same code again and again. Also, it allows us to add more features to a class without modifying it.</li><li>It is transitive in nature, which means that if class B inherits from another class A, then all the subclasses of B would automatically inherit from class A.</li></ul>"
      ]
    },
    {
      "cell_type": "markdown",
      "id": "4345028d",
      "metadata": {
        "id": "4345028d"
      },
      "source": [
        "<h4><strong>Types of Inheritance </strong></h4>\n",
        "\n",
        "<p><strong>Single Inheritance</strong>:<br>Single-level inheritance enables a derived class to inherit characteristics from a single-parent class.</p>\n",
        "\n",
        "<p><strong>Multilevel Inheritance:</strong><br>Multi-level inheritance enables a derived class to inherit properties from an immediate parent class which in turn inherits properties from his parent class.</p>\n",
        "\n",
        "<p><strong>Hierarchical Inheritance:</strong><br>Hierarchical level inheritance enables more than one derived class to inherit properties from a parent class.</p>\n",
        "\n",
        "<p><strong>Multiple Inheritance:</strong><br>Multiple level inheritance enables one derived class to inherit properties from more than one base class.</p>"
      ]
    },
    {
      "cell_type": "markdown",
      "id": "4493a876",
      "metadata": {
        "id": "4493a876"
      },
      "source": [
        "<h3>Example: Inheritance in Python</h3>"
      ]
    },
    {
      "cell_type": "code",
      "execution_count": null,
      "id": "8d4e1bdb",
      "metadata": {
        "ExecuteTime": {
          "end_time": "2023-02-09T11:27:12.270987Z",
          "start_time": "2023-02-09T11:27:12.232096Z"
        },
        "code_folding": [],
        "id": "8d4e1bdb"
      },
      "outputs": [],
      "source": [
        "# # Python code to demonstrate how parent constructors\n",
        "# # are called.\n",
        "\n",
        "# # parent class\n",
        "# class Person(object):\n",
        " \n",
        "#     # __init__ is known as the constructor\n",
        "#     def __init__(self, name, idnumber):\n",
        "#         self.name = name\n",
        "#         self.idnumber = idnumber\n",
        " \n",
        "#     def display(self):\n",
        "#         print(self.name)\n",
        "#         print(self.idnumber)\n",
        "         \n",
        "#     def details(self):\n",
        "#         print(\"My name is {}\".format(self.name))\n",
        "#         print(\"IdNumber: {}\".format(self.idnumber))\n",
        "     \n",
        "# # child class\n",
        "# class Employee(Person):\n",
        "#     def __init__(self, name, idnumber, salary, post):\n",
        "#         self.salary = salary\n",
        "#         self.post = post\n",
        " \n",
        "#         # invoking the __init__ of the parent class\n",
        "#         Person.__init__(self, name, idnumber)\n",
        "         \n",
        "#     def details(self):\n",
        "#         print(\"My name is {}\".format(self.name))\n",
        "#         print(\"IdNumber: {}\".format(self.idnumber))\n",
        "#         print(\"Post: {}\".format(self.post))\n",
        " \n",
        " \n",
        "# # creation of an object variable or an instance\n",
        "# a = Employee('Rahul', 886012, 200000, \"Intern\")\n",
        " \n",
        "# # calling a function of the class Person using\n",
        "# # its instance\n",
        "# a.display()\n",
        "# a.details()"
      ]
    },
    {
      "cell_type": "markdown",
      "id": "f9ca3668",
      "metadata": {
        "id": "f9ca3668"
      },
      "source": [
        "<p>Above, we have created two classes i.e. Person (parent class) and Employee (Child Class). The Employee class inherits from the Person class. We can use the methods of the person class through employee class as seen in the display function in the above code. A child class can also modify the behavior of the parent class as seen through the details() method.</p>"
      ]
    },
    {
      "cell_type": "markdown",
      "id": "cae55aaa",
      "metadata": {
        "id": "cae55aaa"
      },
      "source": [
        "<h2>Polymorphism</h2>\n",
        "<p>Polymorphism simply means having many forms. For example, we need to determine if the given species of birds fly or not, using polymorphism we can do this using a single function.</p>"
      ]
    },
    {
      "cell_type": "markdown",
      "id": "e60fbc69",
      "metadata": {
        "id": "e60fbc69"
      },
      "source": [
        "<h3>Example: Polymorphism in Python</h3>"
      ]
    },
    {
      "cell_type": "code",
      "execution_count": null,
      "id": "3c85ffab",
      "metadata": {
        "ExecuteTime": {
          "end_time": "2023-02-09T11:34:17.153294Z",
          "start_time": "2023-02-09T11:34:17.137274Z"
        },
        "id": "3c85ffab"
      },
      "outputs": [],
      "source": [
        "# class Bird:\n",
        "   \n",
        "#     def intro(self):\n",
        "#         print(\"There are many types of birds.\")\n",
        " \n",
        "#     def flight(self):\n",
        "#         print(\"Most of the birds can fly but some cannot.\")\n",
        " \n",
        "# class sparrow(Bird):\n",
        "   \n",
        "#     def flight(self):\n",
        "#         print(\"Sparrows can fly.\")\n",
        " \n",
        "# class ostrich(Bird):\n",
        " \n",
        "#     def flight(self):\n",
        "#         print(\"Ostriches cannot fly.\")\n",
        " \n",
        "# obj_bird = Bird()\n",
        "# obj_spr = sparrow()\n",
        "# obj_ost = ostrich()\n",
        " \n",
        "# obj_bird.intro()\n",
        "# obj_bird.flight()\n",
        " \n",
        "# obj_spr.intro()\n",
        "# obj_spr.flight()\n",
        " \n",
        "# obj_ost.intro()\n",
        "# obj_ost.flight()"
      ]
    },
    {
      "cell_type": "code",
      "execution_count": null,
      "id": "c3e9fb7f",
      "metadata": {
        "ExecuteTime": {
          "end_time": "2023-02-09T11:33:59.026049Z",
          "start_time": "2023-02-09T11:33:59.002064Z"
        },
        "id": "c3e9fb7f"
      },
      "outputs": [],
      "source": [
        "# class Shape:\n",
        "#     def area(self):\n",
        "#         pass\n",
        "\n",
        "# class Circle(Shape):\n",
        "#     def __init__(self, radius):\n",
        "#         self.radius = radius\n",
        "\n",
        "#     def area(self):\n",
        "#         return 3.14 * self.radius * self.radius\n",
        "\n",
        "# class Square(Shape):\n",
        "#     def __init__(self, side):\n",
        "#         self.side = side\n",
        "\n",
        "#     def area(self):\n",
        "#         return self.side * self.side\n",
        "\n",
        "# class Rectangle(Shape):\n",
        "#     def __init__(self, length, width):\n",
        "#         self.length = length\n",
        "#         self.width = width\n",
        "\n",
        "#     def area(self):\n",
        "#         return self.length * self.width\n"
      ]
    },
    {
      "cell_type": "code",
      "execution_count": null,
      "id": "a4f5404a",
      "metadata": {
        "ExecuteTime": {
          "end_time": "2023-02-09T11:34:45.270435Z",
          "start_time": "2023-02-09T11:34:45.246451Z"
        },
        "id": "a4f5404a"
      },
      "outputs": [],
      "source": [
        "# rect=Rectangle(4,3)"
      ]
    },
    {
      "cell_type": "code",
      "execution_count": null,
      "id": "5886dcef",
      "metadata": {
        "ExecuteTime": {
          "end_time": "2023-02-09T11:37:35.548707Z",
          "start_time": "2023-02-09T11:37:35.524723Z"
        },
        "id": "5886dcef"
      },
      "outputs": [],
      "source": [
        "# class Animal:\n",
        "#     def speak(self):\n",
        "#         pass\n",
        "\n",
        "# class Cat(Animal):\n",
        "#     def speak(self):\n",
        "#         return \"Meow\"\n",
        "\n",
        "# class Dog(Animal):\n",
        "#     def speak(self):\n",
        "#         return \"Woof\"\n",
        "\n",
        "# class Human(Animal):\n",
        "#     def speak(self):\n",
        "#         return \"Hello\"\n",
        "\n",
        "# animals = [Cat(), Dog(), Human()]\n",
        "\n",
        "# for animal in animals:\n",
        "#     print(animal.speak())"
      ]
    },
    {
      "cell_type": "markdown",
      "id": "f31e5142",
      "metadata": {
        "id": "f31e5142"
      },
      "source": [
        "<h2>Encapsulation</h2>\n",
        "<p>Encapsulation is one of the fundamental concepts in object-oriented programming (OOP). It describes the idea of wrapping data and the methods that work on data within one unit. This puts restrictions on accessing variables and methods directly and can prevent the accidental modification of data. To prevent accidental change, an object’s variable can only be changed by an object’s method. Those types of variables are known as private variables.</p>\n",
        "\n",
        "<p>A class is an example of encapsulation as it encapsulates all the data that is member functions, variables, etc.</p>\n",
        "\n",
        "<p><img src=\"https://logicmojo.com/assets/dist/new_pages/images/encapsulation-image.jpg\" alt=\"Encapsulation in Python\"></p>"
      ]
    },
    {
      "cell_type": "markdown",
      "id": "c42ed1a6",
      "metadata": {
        "id": "c42ed1a6"
      },
      "source": [
        "<h3>Example: Encapsulation in Python</h3>"
      ]
    },
    {
      "cell_type": "code",
      "execution_count": null,
      "id": "2e2e8007",
      "metadata": {
        "ExecuteTime": {
          "end_time": "2023-01-20T09:12:48.655721Z",
          "start_time": "2023-01-20T09:12:48.638755Z"
        },
        "id": "2e2e8007"
      },
      "outputs": [],
      "source": [
        "# Python program to\n",
        "# demonstrate private members\n",
        " \n",
        "# Creating a Base class\n",
        "class Base:\n",
        "    def __init__(self):\n",
        "        self.a = \"Base A\"\n",
        "        self.__c = \"Base B\"\n",
        " \n",
        "# Creating a derived class\n",
        "class Derived(Base):\n",
        "    def __init__(self):\n",
        " \n",
        "        # Calling constructor of\n",
        "        # Base class\n",
        "        Base.__init__(self)\n",
        "        print(\"Calling private member of base class: \")\n",
        "        print(self.__c)\n",
        " \n",
        " \n",
        "# Driver code\n",
        "obj1 = Base()\n",
        "print(obj1.a)\n",
        " \n",
        "# Uncommenting print(obj1.c) will\n",
        "# raise an AttributeError\n",
        " \n",
        "# Uncommenting obj2 = Derived() will\n",
        "# also raise an AtrributeError as\n",
        "# private member of base class\n",
        "# is called inside derived class"
      ]
    },
    {
      "cell_type": "markdown",
      "id": "798d50e6",
      "metadata": {
        "id": "798d50e6"
      },
      "source": [
        "<p>In the above example, we have created the c variable as the private attribute. We cannot even access this attribute directly and can’t even change its value.</p>"
      ]
    },
    {
      "cell_type": "markdown",
      "id": "58ebd1b6",
      "metadata": {
        "id": "58ebd1b6"
      },
      "source": [
        "<h2><strong>Data Abstraction&nbsp;</strong></h2>\n",
        "\n",
        "<p>It hides the unnecessary code details from the user. Also, &nbsp;when we do not want to give out sensitive parts of our code implementation and this is where data abstraction came.</p>\n",
        "\n",
        "<p>Data Abstraction in Python can be achieved through creating abstract classes.</p>"
      ]
    }
  ],
  "metadata": {
    "kernelspec": {
      "display_name": "Python 3 (ipykernel)",
      "language": "python",
      "name": "python3"
    },
    "language_info": {
      "codemirror_mode": {
        "name": "ipython",
        "version": 3
      },
      "file_extension": ".py",
      "mimetype": "text/x-python",
      "name": "python",
      "nbconvert_exporter": "python",
      "pygments_lexer": "ipython3",
      "version": "3.9.13"
    },
    "vp": {
      "vp_config_version": "1.0.0",
      "vp_menu_width": 273,
      "vp_note_display": false,
      "vp_note_width": 0,
      "vp_position": {
        "width": 278
      },
      "vp_section_display": false,
      "vp_signature": "VisualPython"
    },
    "colab": {
      "provenance": []
    }
  },
  "nbformat": 4,
  "nbformat_minor": 5
}